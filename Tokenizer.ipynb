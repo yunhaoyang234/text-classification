{
 "cells": [
  {
   "cell_type": "code",
   "execution_count": 1,
   "metadata": {
    "colab": {
     "base_uri": "https://localhost:8080/",
     "height": 122
    },
    "colab_type": "code",
    "id": "foDmP__X0B14",
    "outputId": "279903d0-cfe7-49f7-ad03-af083522216c"
   },
   "outputs": [],
   "source": [
    "from __future__ import unicode_literals, print_function, division\n",
    "import pandas as pd\n",
    "import os\n",
    "from io import open\n",
    "import glob\n",
    "import unicodedata\n",
    "import string\n",
    "import torch\n",
    "import numpy as np\n",
    "\n",
    "import torch\n",
    "import torch.nn as nn\n",
    "import torch.nn.functional as F\n",
    "import torch.optim as optim"
   ]
  },
  {
   "cell_type": "code",
   "execution_count": 0,
   "metadata": {
    "colab": {},
    "colab_type": "code",
    "id": "c-S_gXj20GVt"
   },
   "outputs": [],
   "source": [
    "def tokenize(sentence, word_set):\n",
    "  words = []\n",
    "  start = 0\n",
    "  while start < len(sentence):\n",
    "    find = True\n",
    "    for stop in range(len(sentence), start, -1):\n",
    "      if sentence[start: stop].lower() in word_set:\n",
    "        words.append(sentence[start: stop])\n",
    "        start = stop\n",
    "        break\n",
    "      if stop == start + 1:\n",
    "        find = False\n",
    "        break\n",
    "    if not find:\n",
    "      start += 1\n",
    "  return words"
   ]
  },
  {
   "cell_type": "markdown",
   "metadata": {
    "colab_type": "text",
    "id": "109dRwa3cBeR"
   },
   "source": [
    "## get vocabulary set"
   ]
  },
  {
   "cell_type": "code",
   "execution_count": 4,
   "metadata": {
    "colab": {},
    "colab_type": "code",
    "id": "IKibRiUd0cPy"
   },
   "outputs": [],
   "source": [
    "data = pd.read_excel('2018_tagged_data.xlsx')"
   ]
  },
  {
   "cell_type": "code",
   "execution_count": 5,
   "metadata": {
    "colab": {
     "base_uri": "https://localhost:8080/",
     "height": 1000
    },
    "colab_type": "code",
    "id": "bFVOdhrCbRbz",
    "outputId": "c8c33b4a-2543-4362-fb54-1c652f7c0bf6"
   },
   "outputs": [
    {
     "data": {
      "text/html": [
       "<div>\n",
       "<style scoped>\n",
       "    .dataframe tbody tr th:only-of-type {\n",
       "        vertical-align: middle;\n",
       "    }\n",
       "\n",
       "    .dataframe tbody tr th {\n",
       "        vertical-align: top;\n",
       "    }\n",
       "\n",
       "    .dataframe thead th {\n",
       "        text-align: right;\n",
       "    }\n",
       "</style>\n",
       "<table border=\"1\" class=\"dataframe\">\n",
       "  <thead>\n",
       "    <tr style=\"text-align: right;\">\n",
       "      <th></th>\n",
       "      <th>Unnamed: 0</th>\n",
       "      <th>Unnamed: 1</th>\n",
       "      <th>Unnamed: 2</th>\n",
       "      <th>Unnamed: 3</th>\n",
       "      <th>Unnamed: 4</th>\n",
       "      <th>Unnamed: 5</th>\n",
       "      <th>Unnamed: 6</th>\n",
       "      <th>Unnamed: 7</th>\n",
       "      <th>Unnamed: 8</th>\n",
       "      <th>Unnamed: 9</th>\n",
       "      <th>...</th>\n",
       "      <th>Bug缺少模块</th>\n",
       "      <th>下载/传文件</th>\n",
       "      <th>操作问题</th>\n",
       "      <th>操作问题(gps)</th>\n",
       "      <th>抱怨/退费</th>\n",
       "      <th>要求/改进功能</th>\n",
       "      <th>商务</th>\n",
       "      <th>无响应</th>\n",
       "      <th>Unnamed: 31</th>\n",
       "      <th>Unnamed: 32</th>\n",
       "    </tr>\n",
       "  </thead>\n",
       "  <tbody>\n",
       "    <tr>\n",
       "      <td>0</td>\n",
       "      <td>2018081000006</td>\n",
       "      <td>山西水塔醋业营销有限责任公司6.0</td>\n",
       "      <td>3.517021e+09</td>\n",
       "      <td>山西水塔醋业营销有限责任公司6.0</td>\n",
       "      <td>山西省</td>\n",
       "      <td>太原市</td>\n",
       "      <td>2018-08-10 09:01:55</td>\n",
       "      <td>8001成凤伟</td>\n",
       "      <td>服务异常</td>\n",
       "      <td>红圈通</td>\n",
       "      <td>...</td>\n",
       "      <td>0.0</td>\n",
       "      <td>0.0</td>\n",
       "      <td>0.0</td>\n",
       "      <td>0.0</td>\n",
       "      <td>0.0</td>\n",
       "      <td>0.0</td>\n",
       "      <td>0.0</td>\n",
       "      <td>0.0</td>\n",
       "      <td>考勤 不</td>\n",
       "      <td>技术  紧急 处理</td>\n",
       "    </tr>\n",
       "    <tr>\n",
       "      <td>1</td>\n",
       "      <td>2018040400034</td>\n",
       "      <td>售前咨询</td>\n",
       "      <td>1.805793e+10</td>\n",
       "      <td>售前咨询</td>\n",
       "      <td>浙江省</td>\n",
       "      <td>金华市</td>\n",
       "      <td>2018-04-04 09:53:02</td>\n",
       "      <td>8009范香香</td>\n",
       "      <td>售前咨询红圈通</td>\n",
       "      <td>商机</td>\n",
       "      <td>...</td>\n",
       "      <td>0.0</td>\n",
       "      <td>0.0</td>\n",
       "      <td>0.0</td>\n",
       "      <td>0.0</td>\n",
       "      <td>0.0</td>\n",
       "      <td>0.0</td>\n",
       "      <td>1.0</td>\n",
       "      <td>0.0</td>\n",
       "      <td>网络 科技 有限 公司    咨询 软件 ，七八十 人，外出 定位 轨迹  ，费用</td>\n",
       "      <td>转</td>\n",
       "    </tr>\n",
       "    <tr>\n",
       "      <td>2</td>\n",
       "      <td>2018011900041</td>\n",
       "      <td>北京华戎凯威植保生物科技有限公司</td>\n",
       "      <td>1.885504e+10</td>\n",
       "      <td>bjhrkwzbsw</td>\n",
       "      <td>安徽省</td>\n",
       "      <td>滁州市</td>\n",
       "      <td>2018-01-19 11:05:23</td>\n",
       "      <td>8013苏永辉</td>\n",
       "      <td>使用咨询手机4.0</td>\n",
       "      <td>定位</td>\n",
       "      <td>...</td>\n",
       "      <td>0.0</td>\n",
       "      <td>0.0</td>\n",
       "      <td>0.0</td>\n",
       "      <td>0.0</td>\n",
       "      <td>0.0</td>\n",
       "      <td>0.0</td>\n",
       "      <td>0.0</td>\n",
       "      <td>0.0</td>\n",
       "      <td>华为 青春</td>\n",
       "      <td>已调 手机 设置</td>\n",
       "    </tr>\n",
       "    <tr>\n",
       "      <td>3</td>\n",
       "      <td>2018030700059</td>\n",
       "      <td>定州市佳谊家电销售有限公司6.0</td>\n",
       "      <td>1.348380e+10</td>\n",
       "      <td>定州市佳谊家电销售有限公司6.0</td>\n",
       "      <td>河北省</td>\n",
       "      <td>保定市</td>\n",
       "      <td>2018-03-07 10:46:07</td>\n",
       "      <td>8013苏永辉</td>\n",
       "      <td>使用咨询红圈通</td>\n",
       "      <td>定位</td>\n",
       "      <td>...</td>\n",
       "      <td>0.0</td>\n",
       "      <td>0.0</td>\n",
       "      <td>0.0</td>\n",
       "      <td>0.0</td>\n",
       "      <td>0.0</td>\n",
       "      <td>0.0</td>\n",
       "      <td>0.0</td>\n",
       "      <td>0.0</td>\n",
       "      <td>魅族 定位 离线</td>\n",
       "      <td>已调 手机 设置</td>\n",
       "    </tr>\n",
       "    <tr>\n",
       "      <td>4</td>\n",
       "      <td>2018030600052</td>\n",
       "      <td>成都齐力红食品有限责任公司</td>\n",
       "      <td>1.361808e+10</td>\n",
       "      <td>cdqlh</td>\n",
       "      <td>四川省</td>\n",
       "      <td>成都市</td>\n",
       "      <td>2018-03-06 10:34:51</td>\n",
       "      <td>8009范香香</td>\n",
       "      <td>售后咨询红圈营销</td>\n",
       "      <td>找业务员</td>\n",
       "      <td>...</td>\n",
       "      <td>0.0</td>\n",
       "      <td>0.0</td>\n",
       "      <td>0.0</td>\n",
       "      <td>0.0</td>\n",
       "      <td>0.0</td>\n",
       "      <td>0.0</td>\n",
       "      <td>1.0</td>\n",
       "      <td>0.0</td>\n",
       "      <td>对接 红圈 定位 问题</td>\n",
       "      <td>转</td>\n",
       "    </tr>\n",
       "  </tbody>\n",
       "</table>\n",
       "<p>5 rows × 33 columns</p>\n",
       "</div>"
      ],
      "text/plain": [
       "      Unnamed: 0         Unnamed: 1    Unnamed: 2         Unnamed: 3  \\\n",
       "0  2018081000006  山西水塔醋业营销有限责任公司6.0  3.517021e+09  山西水塔醋业营销有限责任公司6.0   \n",
       "1  2018040400034               售前咨询  1.805793e+10               售前咨询   \n",
       "2  2018011900041   北京华戎凯威植保生物科技有限公司  1.885504e+10         bjhrkwzbsw   \n",
       "3  2018030700059   定州市佳谊家电销售有限公司6.0  1.348380e+10   定州市佳谊家电销售有限公司6.0   \n",
       "4  2018030600052      成都齐力红食品有限责任公司  1.361808e+10              cdqlh   \n",
       "\n",
       "  Unnamed: 4 Unnamed: 5           Unnamed: 6 Unnamed: 7 Unnamed: 8 Unnamed: 9  \\\n",
       "0        山西省        太原市  2018-08-10 09:01:55    8001成凤伟       服务异常        红圈通   \n",
       "1        浙江省        金华市  2018-04-04 09:53:02    8009范香香    售前咨询红圈通         商机   \n",
       "2        安徽省        滁州市  2018-01-19 11:05:23    8013苏永辉  使用咨询手机4.0         定位   \n",
       "3        河北省        保定市  2018-03-07 10:46:07    8013苏永辉    使用咨询红圈通         定位   \n",
       "4        四川省        成都市  2018-03-06 10:34:51    8009范香香   售后咨询红圈营销       找业务员   \n",
       "\n",
       "   ... Bug缺少模块 下载/传文件 操作问题 操作问题(gps)  抱怨/退费  要求/改进功能   商务  无响应  \\\n",
       "0  ...     0.0    0.0  0.0       0.0    0.0      0.0  0.0  0.0   \n",
       "1  ...     0.0    0.0  0.0       0.0    0.0      0.0  1.0  0.0   \n",
       "2  ...     0.0    0.0  0.0       0.0    0.0      0.0  0.0  0.0   \n",
       "3  ...     0.0    0.0  0.0       0.0    0.0      0.0  0.0  0.0   \n",
       "4  ...     0.0    0.0  0.0       0.0    0.0      0.0  1.0  0.0   \n",
       "\n",
       "                                 Unnamed: 31  Unnamed: 32  \n",
       "0                                       考勤 不    技术  紧急 处理  \n",
       "1  网络 科技 有限 公司    咨询 软件 ，七八十 人，外出 定位 轨迹  ，费用            转  \n",
       "2                                     华为 青春      已调 手机 设置  \n",
       "3                                   魅族 定位 离线     已调 手机 设置  \n",
       "4                               对接 红圈 定位 问题             转  \n",
       "\n",
       "[5 rows x 33 columns]"
      ]
     },
     "execution_count": 5,
     "metadata": {},
     "output_type": "execute_result"
    }
   ],
   "source": [
    "data.head()"
   ]
  },
  {
   "cell_type": "code",
   "execution_count": 8,
   "metadata": {
    "colab": {
     "base_uri": "https://localhost:8080/",
     "height": 71
    },
    "colab_type": "code",
    "id": "gkk5Cpl61RsH",
    "outputId": "dbd92ca6-351e-4b41-ebdf-72b526ca7a1b"
   },
   "outputs": [
    {
     "name": "stdout",
     "output_type": "stream",
     "text": [
      "2400\n"
     ]
    }
   ],
   "source": [
    "word_set = set()\n",
    "for i in range(5001):\n",
    "  situation = str(data['Unnamed: 31'][i]).replace('，',' ').split() + str(data['Unnamed: 32'][i]).replace('，',' ').split()\n",
    "  for w in situation:\n",
    "    word_set.add(w)\n",
    "\n",
    "print(len(word_set))"
   ]
  },
  {
   "cell_type": "code",
   "execution_count": 0,
   "metadata": {
    "colab": {},
    "colab_type": "code",
    "id": "XxY4cgiD0a7I"
   },
   "outputs": [],
   "source": [
    "data = pd.read_excel('2018 payroll.xlsx', header = None)"
   ]
  },
  {
   "cell_type": "code",
   "execution_count": 0,
   "metadata": {
    "colab": {
     "base_uri": "https://localhost:8080/",
     "height": 1000
    },
    "colab_type": "code",
    "id": "k-wHbO2t0bFx",
    "outputId": "81dc109a-610a-463d-e582-596a6f24ed88"
   },
   "outputs": [
    {
     "data": {
      "text/html": [
       "<div>\n",
       "<style scoped>\n",
       "    .dataframe tbody tr th:only-of-type {\n",
       "        vertical-align: middle;\n",
       "    }\n",
       "\n",
       "    .dataframe tbody tr th {\n",
       "        vertical-align: top;\n",
       "    }\n",
       "\n",
       "    .dataframe thead th {\n",
       "        text-align: right;\n",
       "    }\n",
       "</style>\n",
       "<table border=\"1\" class=\"dataframe\">\n",
       "  <thead>\n",
       "    <tr style=\"text-align: right;\">\n",
       "      <th></th>\n",
       "      <th>0</th>\n",
       "      <th>1</th>\n",
       "      <th>2</th>\n",
       "      <th>3</th>\n",
       "      <th>4</th>\n",
       "      <th>5</th>\n",
       "      <th>6</th>\n",
       "      <th>7</th>\n",
       "      <th>8</th>\n",
       "      <th>9</th>\n",
       "      <th>10</th>\n",
       "      <th>11</th>\n",
       "      <th>12</th>\n",
       "      <th>13</th>\n",
       "      <th>14</th>\n",
       "      <th>15</th>\n",
       "      <th>16</th>\n",
       "      <th>17</th>\n",
       "      <th>18</th>\n",
       "      <th>19</th>\n",
       "      <th>20</th>\n",
       "      <th>21</th>\n",
       "      <th>22</th>\n",
       "      <th>23</th>\n",
       "      <th>24</th>\n",
       "      <th>25</th>\n",
       "      <th>26</th>\n",
       "      <th>27</th>\n",
       "      <th>28</th>\n",
       "      <th>29</th>\n",
       "      <th>30</th>\n",
       "      <th>31</th>\n",
       "      <th>32</th>\n",
       "    </tr>\n",
       "  </thead>\n",
       "  <tbody>\n",
       "    <tr>\n",
       "      <th>0</th>\n",
       "      <td>2018081000006</td>\n",
       "      <td>山西水塔醋业营销有限责任公司6.0</td>\n",
       "      <td>3.517021e+09</td>\n",
       "      <td>山西水塔醋业营销有限责任公司6.0</td>\n",
       "      <td>山西省</td>\n",
       "      <td>太原市</td>\n",
       "      <td>2018-08-10 09:01:55</td>\n",
       "      <td>8001成凤伟</td>\n",
       "      <td>服务异常</td>\n",
       "      <td>红圈通</td>\n",
       "      <td>服务中断</td>\n",
       "      <td>考勤不了  18636980333</td>\n",
       "      <td>技术在紧急处理</td>\n",
       "      <td>产品问题</td>\n",
       "      <td>0.0</td>\n",
       "      <td>0.0</td>\n",
       "      <td>0.0</td>\n",
       "      <td>1.0</td>\n",
       "      <td>0.0</td>\n",
       "      <td>0.0</td>\n",
       "      <td>0.0</td>\n",
       "      <td>0.0</td>\n",
       "      <td>0.0</td>\n",
       "      <td>0.0</td>\n",
       "      <td>0.0</td>\n",
       "      <td>0.0</td>\n",
       "      <td>0.0</td>\n",
       "      <td>0.0</td>\n",
       "      <td>0.0</td>\n",
       "      <td>0.0</td>\n",
       "      <td>0.0</td>\n",
       "      <td>考勤 不</td>\n",
       "      <td>技术 紧急 处理</td>\n",
       "    </tr>\n",
       "    <tr>\n",
       "      <th>1</th>\n",
       "      <td>2018040400034</td>\n",
       "      <td>售前咨询</td>\n",
       "      <td>1.805793e+10</td>\n",
       "      <td>售前咨询</td>\n",
       "      <td>浙江省</td>\n",
       "      <td>金华市</td>\n",
       "      <td>2018-04-04 09:53:02</td>\n",
       "      <td>8009范香香</td>\n",
       "      <td>售前咨询红圈通</td>\n",
       "      <td>商机</td>\n",
       "      <td>网络推广</td>\n",
       "      <td>金华淘够网络科技有限公司  郭先生   咨询软件 ，七八十人，外出时要定位轨迹  ，了解费用</td>\n",
       "      <td>转</td>\n",
       "      <td>客户问题</td>\n",
       "      <td>0.0</td>\n",
       "      <td>0.0</td>\n",
       "      <td>0.0</td>\n",
       "      <td>0.0</td>\n",
       "      <td>0.0</td>\n",
       "      <td>0.0</td>\n",
       "      <td>0.0</td>\n",
       "      <td>0.0</td>\n",
       "      <td>0.0</td>\n",
       "      <td>0.0</td>\n",
       "      <td>0.0</td>\n",
       "      <td>0.0</td>\n",
       "      <td>0.0</td>\n",
       "      <td>0.0</td>\n",
       "      <td>0.0</td>\n",
       "      <td>1.0</td>\n",
       "      <td>0.0</td>\n",
       "      <td>网络 科技 有限 公司 咨询 软件 ， 七八十 人 ， 外出 定位 轨迹 ， 费用</td>\n",
       "      <td>转</td>\n",
       "    </tr>\n",
       "    <tr>\n",
       "      <th>2</th>\n",
       "      <td>2018011900041</td>\n",
       "      <td>北京华戎凯威植保生物科技有限公司</td>\n",
       "      <td>1.885504e+10</td>\n",
       "      <td>bjhrkwzbsw</td>\n",
       "      <td>安徽省</td>\n",
       "      <td>滁州市</td>\n",
       "      <td>2018-01-19 11:05:23</td>\n",
       "      <td>8013苏永辉</td>\n",
       "      <td>使用咨询手机4.0</td>\n",
       "      <td>定位</td>\n",
       "      <td>手机设置错误</td>\n",
       "      <td>华为青春版定位灰点</td>\n",
       "      <td>已调手机设置</td>\n",
       "      <td>客户问题</td>\n",
       "      <td>0.0</td>\n",
       "      <td>0.0</td>\n",
       "      <td>0.0</td>\n",
       "      <td>0.0</td>\n",
       "      <td>1.0</td>\n",
       "      <td>0.0</td>\n",
       "      <td>0.0</td>\n",
       "      <td>0.0</td>\n",
       "      <td>0.0</td>\n",
       "      <td>0.0</td>\n",
       "      <td>0.0</td>\n",
       "      <td>0.0</td>\n",
       "      <td>0.0</td>\n",
       "      <td>0.0</td>\n",
       "      <td>0.0</td>\n",
       "      <td>0.0</td>\n",
       "      <td>0.0</td>\n",
       "      <td>华为 青春</td>\n",
       "      <td>已 调 手机 设置</td>\n",
       "    </tr>\n",
       "    <tr>\n",
       "      <th>3</th>\n",
       "      <td>2018030700059</td>\n",
       "      <td>定州市佳谊家电销售有限公司6.0</td>\n",
       "      <td>1.348380e+10</td>\n",
       "      <td>定州市佳谊家电销售有限公司6.0</td>\n",
       "      <td>河北省</td>\n",
       "      <td>保定市</td>\n",
       "      <td>2018-03-07 10:46:07</td>\n",
       "      <td>8013苏永辉</td>\n",
       "      <td>使用咨询红圈通</td>\n",
       "      <td>定位</td>\n",
       "      <td>手机设置错误</td>\n",
       "      <td>魅族note6定位离线</td>\n",
       "      <td>已调手机设置</td>\n",
       "      <td>客户问题</td>\n",
       "      <td>1.0</td>\n",
       "      <td>0.0</td>\n",
       "      <td>0.0</td>\n",
       "      <td>0.0</td>\n",
       "      <td>1.0</td>\n",
       "      <td>0.0</td>\n",
       "      <td>0.0</td>\n",
       "      <td>0.0</td>\n",
       "      <td>0.0</td>\n",
       "      <td>0.0</td>\n",
       "      <td>0.0</td>\n",
       "      <td>0.0</td>\n",
       "      <td>0.0</td>\n",
       "      <td>0.0</td>\n",
       "      <td>0.0</td>\n",
       "      <td>0.0</td>\n",
       "      <td>0.0</td>\n",
       "      <td>魅族 定位 离线</td>\n",
       "      <td>已 调 手机 设置</td>\n",
       "    </tr>\n",
       "    <tr>\n",
       "      <th>4</th>\n",
       "      <td>2018030600052</td>\n",
       "      <td>成都齐力红食品有限责任公司</td>\n",
       "      <td>1.361808e+10</td>\n",
       "      <td>cdqlh</td>\n",
       "      <td>四川省</td>\n",
       "      <td>成都市</td>\n",
       "      <td>2018-03-06 10:34:51</td>\n",
       "      <td>8009范香香</td>\n",
       "      <td>售后咨询红圈营销</td>\n",
       "      <td>找业务员</td>\n",
       "      <td>联系不上/无联系方式</td>\n",
       "      <td>成都齐力红食品有限责任公司   找对接人员  红圈定位问题  宁女士 13618079712</td>\n",
       "      <td>转</td>\n",
       "      <td>客户问题</td>\n",
       "      <td>0.0</td>\n",
       "      <td>0.0</td>\n",
       "      <td>0.0</td>\n",
       "      <td>0.0</td>\n",
       "      <td>0.0</td>\n",
       "      <td>0.0</td>\n",
       "      <td>0.0</td>\n",
       "      <td>0.0</td>\n",
       "      <td>0.0</td>\n",
       "      <td>0.0</td>\n",
       "      <td>0.0</td>\n",
       "      <td>0.0</td>\n",
       "      <td>0.0</td>\n",
       "      <td>0.0</td>\n",
       "      <td>0.0</td>\n",
       "      <td>1.0</td>\n",
       "      <td>0.0</td>\n",
       "      <td>对接 红圈 定位 问题</td>\n",
       "      <td>转</td>\n",
       "    </tr>\n",
       "  </tbody>\n",
       "</table>\n",
       "</div>"
      ],
      "text/plain": [
       "              0   ...         32\n",
       "0  2018081000006  ...   技术 紧急 处理\n",
       "1  2018040400034  ...          转\n",
       "2  2018011900041  ...  已 调 手机 设置\n",
       "3  2018030700059  ...  已 调 手机 设置\n",
       "4  2018030600052  ...          转\n",
       "\n",
       "[5 rows x 33 columns]"
      ]
     },
     "execution_count": 14,
     "metadata": {
      "tags": []
     },
     "output_type": "execute_result"
    }
   ],
   "source": [
    "data.head()"
   ]
  },
  {
   "cell_type": "markdown",
   "metadata": {
    "colab_type": "text",
    "id": "rdaPCxvfGsLe"
   },
   "source": [
    "## use bigram"
   ]
  },
  {
   "cell_type": "code",
   "execution_count": 0,
   "metadata": {
    "colab": {},
    "colab_type": "code",
    "id": "p0TKtR4VGrDS"
   },
   "outputs": [],
   "source": [
    "def load_embeddings(path):\n",
    "    embedding_map = {}\n",
    "    with open(path) as f:\n",
    "        next(f)\n",
    "        for line in f:\n",
    "            try:\n",
    "                pieces = line.rstrip().split()\n",
    "                embedding_map[pieces[0]] = [float(weight) for weight in pieces[1:]]\n",
    "            except:\n",
    "                pass\n",
    "    return embedding_map\n",
    "d = load_embeddings('chinese_words.txt')"
   ]
  },
  {
   "cell_type": "code",
   "execution_count": 0,
   "metadata": {
    "colab": {
     "base_uri": "https://localhost:8080/",
     "height": 51
    },
    "colab_type": "code",
    "id": "SMIOiIdRHAsJ",
    "outputId": "682de2c5-b43c-4b8c-fbc3-046d03e52525"
   },
   "outputs": [
    {
     "name": "stdout",
     "output_type": "stream",
     "text": [
      "364171\n",
      "<class 'dict_keys'>\n"
     ]
    }
   ],
   "source": [
    "print(len(d.keys()))\n",
    "print(type(d.keys()))\n",
    "word_set = set(d.keys())"
   ]
  },
  {
   "cell_type": "code",
   "execution_count": 0,
   "metadata": {
    "colab": {
     "base_uri": "https://localhost:8080/",
     "height": 34
    },
    "colab_type": "code",
    "id": "hsVq5lW9KSLD",
    "outputId": "55f0ca29-d273-462f-8816-5ad83167e667"
   },
   "outputs": [
    {
     "name": "stdout",
     "output_type": "stream",
     "text": [
      "36951\n"
     ]
    }
   ],
   "source": [
    "print(len(data))"
   ]
  },
  {
   "cell_type": "markdown",
   "metadata": {
    "colab_type": "text",
    "id": "V5eK_cw7b9T7"
   },
   "source": [
    "## split new rows"
   ]
  },
  {
   "cell_type": "code",
   "execution_count": 0,
   "metadata": {
    "colab": {
     "base_uri": "https://localhost:8080/",
     "height": 34
    },
    "colab_type": "code",
    "id": "zJ0amsXlV23v",
    "outputId": "15ef88f3-3af0-4247-d186-f0e2ef24ab53"
   },
   "outputs": [
    {
     "name": "stdout",
     "output_type": "stream",
     "text": [
      "362553\n"
     ]
    }
   ],
   "source": [
    "word_set = set([w.lower() for w in word_set])\n",
    "print(len(word_set))"
   ]
  },
  {
   "cell_type": "code",
   "execution_count": 0,
   "metadata": {
    "colab": {
     "base_uri": "https://localhost:8080/",
     "height": 207
    },
    "colab_type": "code",
    "id": "sbpQiHVK5cKw",
    "outputId": "8d282449-c7b6-4bee-8c97-4568e97695b9"
   },
   "outputs": [
    {
     "name": "stderr",
     "output_type": "stream",
     "text": [
      "/usr/local/lib/python3.6/dist-packages/ipykernel_launcher.py:15: SettingWithCopyWarning: \n",
      "A value is trying to be set on a copy of a slice from a DataFrame\n",
      "\n",
      "See the caveats in the documentation: https://pandas.pydata.org/pandas-docs/stable/user_guide/indexing.html#returning-a-view-versus-a-copy\n",
      "  from ipykernel import kernelapp as app\n",
      "/usr/local/lib/python3.6/dist-packages/ipykernel_launcher.py:16: SettingWithCopyWarning: \n",
      "A value is trying to be set on a copy of a slice from a DataFrame\n",
      "\n",
      "See the caveats in the documentation: https://pandas.pydata.org/pandas-docs/stable/user_guide/indexing.html#returning-a-view-versus-a-copy\n",
      "  app.launch_new_instance()\n"
     ]
    }
   ],
   "source": [
    "data = pd.read_excel('2018_tagged_data.xlsx')\n",
    "problems = data['Unnamed: 31']\n",
    "situation = data['Unnamed: 32']\n",
    "for i in range(len(data)):\n",
    "  sent1 = str(data['Unnamed: 31'][i])\n",
    "  sent2 = str(data['Unnamed: 32'][i])\n",
    "  #print(i)\n",
    "  #print(sent1)\n",
    "  word1 = tokenize(sent1, word_set)\n",
    "  #print(' '.join(word1))\n",
    "  word2 = tokenize(sent2, word_set)\n",
    "  #print(sent2)\n",
    "  #print(' '.join(word2))\n",
    "  #print()\n",
    "  problems[i] = ' '.join(word1)\n",
    "  situation[i] = ' '.join(word2)\n",
    "\n",
    "data['Unnamed: 31'] = problems\n",
    "data['Unnamed: 32'] = situation\n",
    "data.to_excel('2018 payroll.xlsx', header=False, index=False)"
   ]
  },
  {
   "cell_type": "code",
   "execution_count": 0,
   "metadata": {
    "colab": {},
    "colab_type": "code",
    "id": "BDQrxy2G6EIV"
   },
   "outputs": [],
   "source": []
  }
 ],
 "metadata": {
  "colab": {
   "collapsed_sections": [],
   "name": "Tokenizer.ipynb",
   "provenance": []
  },
  "kernelspec": {
   "display_name": "Python 3",
   "language": "python",
   "name": "python3"
  },
  "language_info": {
   "codemirror_mode": {
    "name": "ipython",
    "version": 3
   },
   "file_extension": ".py",
   "mimetype": "text/x-python",
   "name": "python",
   "nbconvert_exporter": "python",
   "pygments_lexer": "ipython3",
   "version": "3.7.4"
  }
 },
 "nbformat": 4,
 "nbformat_minor": 1
}
